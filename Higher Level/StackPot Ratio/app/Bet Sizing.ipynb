{
 "metadata": {
  "name": "",
  "signature": "sha256:975e1b5f7b00c7a93b69dd164db74950cf002df8060fbb59ffd2300aa70dab48"
 },
 "nbformat": 3,
 "nbformat_minor": 0,
 "worksheets": [
  {
   "cells": [
    {
     "cell_type": "markdown",
     "metadata": {},
     "source": [
      "### User Inputs:\n",
      "\n",
      "* Current Street ('P','F','T','R')\n",
      "* Betting or Raising?\n",
      "* Set up an x% pot-sized shove or equal stacks?\n",
      "\n",
      "### Outputs:\n",
      "\n",
      "* % to bet to get all-in by F, T, R, (or ocean, etc.)\n",
      "* Bet sizing given each option"
     ]
    },
    {
     "cell_type": "markdown",
     "metadata": {},
     "source": [
      "### Test Input:\n",
      "\n",
      "Street: 'F'\n",
      "Pot: 10\n",
      "Stack: 100"
     ]
    },
    {
     "cell_type": "code",
     "collapsed": false,
     "input": [
      "import numpy as np\n",
      "import math\n",
      "import pandas as pd\n",
      "from pandas import *"
     ],
     "language": "python",
     "metadata": {},
     "outputs": [],
     "prompt_number": 40
    },
    {
     "cell_type": "code",
     "collapsed": false,
     "input": [
      "def next_street_bet(pot, stack, streets_remaining, betpct):\n",
      "    bet = pot*betpct\n",
      "    if streets_remaining == 1:\n",
      "        if abs(stack-bet) < 0.000001:\n",
      "            return True,betpct\n",
      "        else:\n",
      "            return False,stack-bet\n",
      "    else:\n",
      "        return next_street_bet(pot+bet*2, stack-bet, streets_remaining-1, betpct)\n",
      "\n",
      "def next_street_raise(pot, stack, streets_remaining, villbet, betpct):\n",
      "    if villbet < 0: # it's not the first street\n",
      "        bet = pot*betpct\n",
      "    else:\n",
      "        bet = (villbet*2+pot)*betpct+villbet\n",
      "    if streets_remaining == 1:\n",
      "        if abs(stack-bet) < 0.000001:\n",
      "            return True,betpct\n",
      "        else:\n",
      "            return False,stack-bet\n",
      "    else:\n",
      "        return next_street_raise(pot+bet*2, stack-bet, streets_remaining-1, -1, betpct)\n",
      "    \n",
      "\n",
      "def binary_search(curr, betraise, params):    \n",
      "    mini = 0\n",
      "    maxi = 10\n",
      "    prev = float('nan')\n",
      "    while True:\n",
      "        if betraise == 'bet':\n",
      "            bet_size = next_street_bet(params[0],params[1],params[2],curr)\n",
      "        else:\n",
      "            bet_size = next_street_raise(params[0],params[1],params[2],params[3],curr)\n",
      "            \n",
      "        if bet_size[0] == True: # found it\n",
      "            return bet_size[1]\n",
      "        else: # keep going\n",
      "            if math.isnan(prev): # first iteration\n",
      "                prev = curr\n",
      "                if bet_size[1] < 0: # bet size too big\n",
      "                    curr /= 2 # halfway between 0 and curr\n",
      "                else:\n",
      "                    curr = (1+curr)/2 # halfway between 1 and curr\n",
      "            else:\n",
      "                if curr < prev: # if last attempt was too big\n",
      "                    if bet_size[1] < 0: # still too big\n",
      "                        prev = curr\n",
      "                        curr = (curr+mini)/2\n",
      "                    else: # now too small\n",
      "                        maxi = prev # this is the highest possible value\n",
      "                        tempprev = curr\n",
      "                        curr = (curr + prev)/2\n",
      "                        prev = tempprev\n",
      "                else: # if last attempt was too small\n",
      "                    if bet_size[1] < 0: # now too big\n",
      "                        mini = prev # this is the lowest possible value\n",
      "                        tempprev = curr\n",
      "                        curr = (curr + prev)/2\n",
      "                        prev = tempprev\n",
      "                    else: # still too small\n",
      "                        prev = curr\n",
      "                        curr = (maxi+curr)/2\n",
      "    return False # didn't work somehow"
     ],
     "language": "python",
     "metadata": {},
     "outputs": [
      {
       "output_type": "stream",
       "stream": "stdout",
       "text": [
        "0.408560298383\n",
        "1.12018517405\n"
       ]
      }
     ],
     "prompt_number": 33
    },
    {
     "cell_type": "code",
     "collapsed": false,
     "input": [
      "# bet needs: pot, stack, streets_remaining\n",
      "print binary_search(0.5, 'bet', [40, 100, 3])\n",
      "# raise needs: pot, stack, betraisepct, streets_remaining, vill_bet\n",
      "print binary_search(0.5, 'raise', [10, 100, 2, 5])"
     ],
     "language": "python",
     "metadata": {},
     "outputs": [
      {
       "output_type": "stream",
       "stream": "stdout",
       "text": [
        "0.408560298383\n",
        "1.12018517405\n"
       ]
      }
     ],
     "prompt_number": 47
    },
    {
     "cell_type": "code",
     "collapsed": false,
     "input": [
      "# Cols: Pot, Stack, Bet\n",
      "# Rows: Street 0, Street 1,..."
     ],
     "language": "python",
     "metadata": {},
     "outputs": [],
     "prompt_number": 35
    },
    {
     "cell_type": "code",
     "collapsed": false,
     "input": [
      "def get_bet_sizes(pot, stack, betpct, streets_remaining, sizes):\n",
      "    bet = betpct*pot\n",
      "    sizes.append([pot,stack,bet,betpct])\n",
      "    \n",
      "    if streets_remaining == 1: # base case\n",
      "        return sizes\n",
      "    \n",
      "    return get_bet_sizes(pot + 2*bet, stack-bet, betpct, streets_remaining-1, sizes)\n",
      "    \n",
      "\n",
      "pot = 40\n",
      "stack = 100\n",
      "streets_remaining = 3\n",
      "bet_sizes = get_bet_sizes(pot, stack, binary_search(0.5, 'bet', [pot, stack, streets_remaining]),\\\n",
      "                          streets_remaining, [])\n",
      "\n",
      "df = DataFrame(bet_sizes)\n",
      "df.columns = 'Pot','Stack','Bet','%'\n",
      "df.index.name = 'Street #'\n",
      "df"
     ],
     "language": "python",
     "metadata": {},
     "outputs": [
      {
       "html": [
        "<div style=\"max-height:1000px;max-width:1500px;overflow:auto;\">\n",
        "<table border=\"1\" class=\"dataframe\">\n",
        "  <thead>\n",
        "    <tr style=\"text-align: right;\">\n",
        "      <th></th>\n",
        "      <th>Pot</th>\n",
        "      <th>Stack</th>\n",
        "      <th>Bet</th>\n",
        "      <th>%</th>\n",
        "    </tr>\n",
        "    <tr>\n",
        "      <th>Street #</th>\n",
        "      <th></th>\n",
        "      <th></th>\n",
        "      <th></th>\n",
        "      <th></th>\n",
        "    </tr>\n",
        "  </thead>\n",
        "  <tbody>\n",
        "    <tr>\n",
        "      <th>0</th>\n",
        "      <td>  40.000000</td>\n",
        "      <td> 100.000000</td>\n",
        "      <td> 16.342412</td>\n",
        "      <td> 0.40856</td>\n",
        "    </tr>\n",
        "    <tr>\n",
        "      <th>1</th>\n",
        "      <td>  72.684824</td>\n",
        "      <td>  83.657588</td>\n",
        "      <td> 29.696133</td>\n",
        "      <td> 0.40856</td>\n",
        "    </tr>\n",
        "    <tr>\n",
        "      <th>2</th>\n",
        "      <td> 132.077091</td>\n",
        "      <td>  53.961455</td>\n",
        "      <td> 53.961456</td>\n",
        "      <td> 0.40856</td>\n",
        "    </tr>\n",
        "  </tbody>\n",
        "</table>\n",
        "</div>"
       ],
       "metadata": {},
       "output_type": "pyout",
       "prompt_number": 74,
       "text": [
        "                 Pot       Stack        Bet        %\n",
        "Street #                                            \n",
        "0          40.000000  100.000000  16.342412  0.40856\n",
        "1          72.684824   83.657588  29.696133  0.40856\n",
        "2         132.077091   53.961455  53.961456  0.40856"
       ]
      }
     ],
     "prompt_number": 74
    },
    {
     "cell_type": "code",
     "collapsed": false,
     "input": [
      "def get_raise_sizes(pot, stack, betpct, streets_remaining, villbet, sizes):\n",
      "    \n",
      "    if villbet == -1: # not the first street\n",
      "        bet = betpct*pot\n",
      "        sizes.append([pot,stack,NaN,bet,betpct])\n",
      "\n",
      "    else:\n",
      "        bet = (villbet*2 + pot)*betpct + villbet\n",
      "        sizes.append([pot,stack,villbet,bet,betpct])\n",
      "\n",
      "    if streets_remaining == 1: # base case\n",
      "        return sizes\n",
      "    \n",
      "    return get_raise_sizes(pot + 2*bet, stack-bet, betpct, streets_remaining-1, -1, sizes)\n",
      "    \n",
      "\n",
      "pot = 10\n",
      "villbet = 5\n",
      "stack = 100\n",
      "streets_remaining = 2\n",
      "bet_sizes = get_raise_sizes(pot, stack, \\\n",
      "            binary_search(0.5, 'raise', [pot, stack, streets_remaining, villbet]),\\\n",
      "            streets_remaining, villbet, [])\n",
      "\n",
      "df = DataFrame(bet_sizes)\n",
      "df.columns = 'Pot','Stack','Bet/Raise','Villain Bet','%'\n",
      "df.index.name = 'Street #'\n",
      "df"
     ],
     "language": "python",
     "metadata": {},
     "outputs": [
      {
       "html": [
        "<div style=\"max-height:1000px;max-width:1500px;overflow:auto;\">\n",
        "<table border=\"1\" class=\"dataframe\">\n",
        "  <thead>\n",
        "    <tr style=\"text-align: right;\">\n",
        "      <th></th>\n",
        "      <th>Pot</th>\n",
        "      <th>Stack</th>\n",
        "      <th>Bet/Raise</th>\n",
        "      <th>Villain Bet</th>\n",
        "      <th>%</th>\n",
        "    </tr>\n",
        "    <tr>\n",
        "      <th>Street #</th>\n",
        "      <th></th>\n",
        "      <th></th>\n",
        "      <th></th>\n",
        "      <th></th>\n",
        "      <th></th>\n",
        "    </tr>\n",
        "  </thead>\n",
        "  <tbody>\n",
        "    <tr>\n",
        "      <th>0</th>\n",
        "      <td> 10.000000</td>\n",
        "      <td> 100.000000</td>\n",
        "      <td>  5</td>\n",
        "      <td> 27.403703</td>\n",
        "      <td> 1.120185</td>\n",
        "    </tr>\n",
        "    <tr>\n",
        "      <th>1</th>\n",
        "      <td> 64.807407</td>\n",
        "      <td>  72.596297</td>\n",
        "      <td>NaN</td>\n",
        "      <td> 72.596296</td>\n",
        "      <td> 1.120185</td>\n",
        "    </tr>\n",
        "  </tbody>\n",
        "</table>\n",
        "</div>"
       ],
       "metadata": {},
       "output_type": "pyout",
       "prompt_number": 75,
       "text": [
        "                Pot       Stack  Bet/Raise  Villain Bet         %\n",
        "Street #                                                         \n",
        "0         10.000000  100.000000          5    27.403703  1.120185\n",
        "1         64.807407   72.596297        NaN    72.596296  1.120185"
       ]
      }
     ],
     "prompt_number": 75
    }
   ],
   "metadata": {}
  }
 ]
}